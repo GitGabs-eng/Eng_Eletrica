{
  "nbformat": 4,
  "nbformat_minor": 0,
  "metadata": {
    "colab": {
      "provenance": [],
      "authorship_tag": "ABX9TyMPQrh8hhqafSMR2NlLDLr0",
      "include_colab_link": true
    },
    "kernelspec": {
      "name": "python3",
      "display_name": "Python 3"
    },
    "language_info": {
      "name": "python"
    }
  },
  "cells": [
    {
      "cell_type": "markdown",
      "metadata": {
        "id": "view-in-github",
        "colab_type": "text"
      },
      "source": [
        "<a href=\"https://colab.research.google.com/github/GitGabs-eng/Eng_Eletrica/blob/main/Untitled1.ipynb\" target=\"_parent\"><img src=\"https://colab.research.google.com/assets/colab-badge.svg\" alt=\"Open In Colab\"/></a>"
      ]
    },
    {
      "cell_type": "code",
      "execution_count": null,
      "metadata": {
        "id": "dK3bf_aseT-B"
      },
      "outputs": [],
      "source": []
    },
    {
      "cell_type": "markdown",
      "source": [
        "primeiro bla bla bla do gitgabs\n"
      ],
      "metadata": {
        "id": "_iTp49Qyeh_0"
      }
    },
    {
      "cell_type": "code",
      "source": [],
      "metadata": {
        "id": "TAT59uo8elRt"
      },
      "execution_count": null,
      "outputs": []
    }
  ]
}