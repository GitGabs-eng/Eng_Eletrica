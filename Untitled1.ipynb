{
  "nbformat": 4,
  "nbformat_minor": 0,
  "metadata": {
    "colab": {
      "provenance": [],
      "toc_visible": true,
      "authorship_tag": "ABX9TyN1nUZ6853jXHWW+huWJIXm",
      "include_colab_link": true
    },
    "kernelspec": {
      "name": "python3",
      "display_name": "Python 3"
    },
    "language_info": {
      "name": "python"
    }
  },
  "cells": [
    {
      "cell_type": "markdown",
      "metadata": {
        "id": "view-in-github",
        "colab_type": "text"
      },
      "source": [
        "<a href=\"https://colab.research.google.com/github/GitGabs-eng/Eng_Eletrica/blob/main/Untitled1.ipynb\" target=\"_parent\"><img src=\"https://colab.research.google.com/assets/colab-badge.svg\" alt=\"Open In Colab\"/></a>"
      ]
    },
    {
      "cell_type": "code",
      "execution_count": null,
      "metadata": {
        "id": "dK3bf_aseT-B"
      },
      "outputs": [],
      "source": []
    },
    {
      "cell_type": "code",
      "source": [
        "from math import pi\n"
      ],
      "metadata": {
        "id": "HxiGkNr1Y2XX"
      },
      "execution_count": 13,
      "outputs": []
    },
    {
      "cell_type": "markdown",
      "source": [
        "\n",
        "primeiro bla bla bla do gitgabs\n"
      ],
      "metadata": {
        "id": "_iTp49Qyeh_0"
      }
    },
    {
      "cell_type": "code",
      "source": [
        "#solicita que usuario insira uma medida em milimetros\n",
        "mm=float(input(\"digite a medida em mm\"))\n",
        "\n",
        "#solicita que o usurario insira uma medida em polegadas\n",
        "pol = mm/25.4\n",
        "print(mm/25.4)"
      ],
      "metadata": {
        "id": "TAT59uo8elRt",
        "outputId": "83e44d65-02ac-45ac-eab9-4260009354e5",
        "colab": {
          "base_uri": "https://localhost:8080/"
        }
      },
      "execution_count": 7,
      "outputs": [
        {
          "output_type": "stream",
          "name": "stdout",
          "text": [
            "digite a medida em mm450\n",
            "17.716535433070867\n"
          ]
        }
      ]
    },
    {
      "cell_type": "code",
      "source": [
        "#inserir um valor do raio (r) de uma esfera\n",
        "r = float(input(\"digite o valor da esfera\"))\n",
        "#inserir abrir uma caixa com resultado achando o volume que seria A=4.pi.r²\n",
        "volume = 4*pi*r**2\n",
        "print(volume)"
      ],
      "metadata": {
        "id": "sn_CUf2zcp9Z",
        "outputId": "8610cf52-b748-4520-c315-9faaa57eb328",
        "colab": {
          "base_uri": "https://localhost:8080/"
        }
      },
      "execution_count": 15,
      "outputs": [
        {
          "output_type": "stream",
          "name": "stdout",
          "text": [
            "digite o valor da esfera65\n",
            "53092.91584566751\n"
          ]
        }
      ]
    },
    {
      "cell_type": "code",
      "source": [
        "#solicitar que usurario insira um angulo em graus\n",
        "graus = float(input(\"digite o valor em Graus\"))\n",
        "\n",
        "#transformar o grau em radiano atravez da formula Vrad=Vg*pi/180\n",
        "print(graus*pi/180)\n"
      ],
      "metadata": {
        "id": "8hLfc5f2frIG",
        "outputId": "1a4cf51a-65a4-4a14-c2bf-1cbb0a04dce0",
        "colab": {
          "base_uri": "https://localhost:8080/"
        }
      },
      "execution_count": 24,
      "outputs": [
        {
          "output_type": "stream",
          "name": "stdout",
          "text": [
            "digite o valor em Graus45\n",
            "0.7853981633974483\n"
          ]
        }
      ]
    },
    {
      "cell_type": "code",
      "source": [
        "#solicitar um valor em radiano\n",
        "rad = float(input(\"digite o valor em rad\"))\n",
        "#mostra o valor em graus\n",
        "graus = 180/pi\n",
        "print(rad*graus)"
      ],
      "metadata": {
        "id": "DCU91pECgRKL",
        "outputId": "91ab9adf-15d6-4b5d-bd00-49c0b0ca6ca7",
        "colab": {
          "base_uri": "https://localhost:8080/"
        }
      },
      "execution_count": 27,
      "outputs": [
        {
          "output_type": "stream",
          "name": "stdout",
          "text": [
            "digite o valor em rad4\n",
            "229.1831180523293\n"
          ]
        }
      ]
    },
    {
      "cell_type": "code",
      "source": [
        "#solicita um valor em rad\n",
        "rad = float(input(\"digite valor em rad\"))\n",
        "rad = 2*pi\n",
        "#tranformar grados em radiano\n",
        "400 = rad\n"
      ],
      "metadata": {
        "id": "U5f3qHMJkvXb",
        "outputId": "2c89ef4c-3610-4ee6-de88-ff09a9ee1898",
        "colab": {
          "base_uri": "https://localhost:8080/",
          "height": 106
        }
      },
      "execution_count": 28,
      "outputs": [
        {
          "output_type": "error",
          "ename": "SyntaxError",
          "evalue": "cannot assign to literal here. Maybe you meant '==' instead of '='? (<ipython-input-28-fcbe53f4415e>, line 5)",
          "traceback": [
            "\u001b[0;36m  File \u001b[0;32m\"<ipython-input-28-fcbe53f4415e>\"\u001b[0;36m, line \u001b[0;32m5\u001b[0m\n\u001b[0;31m    400 = rad\u001b[0m\n\u001b[0m    ^\u001b[0m\n\u001b[0;31mSyntaxError\u001b[0m\u001b[0;31m:\u001b[0m cannot assign to literal here. Maybe you meant '==' instead of '='?\n"
          ]
        }
      ]
    },
    {
      "cell_type": "code",
      "source": [],
      "metadata": {
        "id": "78m7KQzVmiA6"
      },
      "execution_count": null,
      "outputs": []
    }
  ]
}